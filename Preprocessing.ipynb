{
 "cells": [
  {
   "cell_type": "markdown",
   "id": "e20e45c5",
   "metadata": {},
   "source": [
    "## Projet d'apprentissage supervisé"
   ]
  },
  {
   "cell_type": "code",
   "execution_count": 1,
   "id": "dc33db03",
   "metadata": {},
   "outputs": [],
   "source": [
    "# Import des librairies nécessaires\n",
    "import os\n",
    "import pandas as pd\n",
    "import numpy as np\n",
    "import scipy.stats as st\n",
    "import seaborn as sns\n",
    "from matplotlib import pyplot as plt\n",
    "from sklearn.impute import SimpleImputer,KNNImputer\n",
    "from sklearn.preprocessing import OneHotEncoder"
   ]
  },
  {
   "cell_type": "code",
   "execution_count": 2,
   "id": "9429b341",
   "metadata": {},
   "outputs": [],
   "source": [
    "%matplotlib inline"
   ]
  },
  {
   "cell_type": "code",
   "execution_count": 4,
   "id": "7a2ef723",
   "metadata": {},
   "outputs": [
    {
     "data": {
      "text/plain": [
       "['.ipynb_checkpoints',\n",
       " '.log',\n",
       " '1_Preprocessing.ipynb',\n",
       " '2_EDA.ipynb',\n",
       " '3_Modelisation-Copy1.ipynb',\n",
       " '3_Modelisation.ipynb',\n",
       " 'cleaned',\n",
       " 'source']"
      ]
     },
     "execution_count": 4,
     "metadata": {},
     "output_type": "execute_result"
    }
   ],
   "source": [
    "os.listdir()"
   ]
  },
  {
   "cell_type": "code",
   "execution_count": 3,
   "id": "6ee87871",
   "metadata": {},
   "outputs": [],
   "source": [
    "path = 'source/'\n",
    "filename = 'Dataset_projet_2.csv'"
   ]
  },
  {
   "cell_type": "code",
   "execution_count": 4,
   "id": "4c248a76",
   "metadata": {},
   "outputs": [],
   "source": [
    "# Importer les données\n",
    "data = pd.read_csv(path+filename)"
   ]
  },
  {
   "cell_type": "markdown",
   "id": "4c75fe9e",
   "metadata": {},
   "source": [
    "### Affichage"
   ]
  },
  {
   "cell_type": "code",
   "execution_count": 5,
   "id": "48ceb775",
   "metadata": {},
   "outputs": [
    {
     "data": {
      "text/html": [
       "<div>\n",
       "<style scoped>\n",
       "    .dataframe tbody tr th:only-of-type {\n",
       "        vertical-align: middle;\n",
       "    }\n",
       "\n",
       "    .dataframe tbody tr th {\n",
       "        vertical-align: top;\n",
       "    }\n",
       "\n",
       "    .dataframe thead th {\n",
       "        text-align: right;\n",
       "    }\n",
       "</style>\n",
       "<table border=\"1\" class=\"dataframe\">\n",
       "  <thead>\n",
       "    <tr style=\"text-align: right;\">\n",
       "      <th></th>\n",
       "      <th>OSEBuildingID</th>\n",
       "      <th>DataYear</th>\n",
       "      <th>BuildingType</th>\n",
       "      <th>PrimaryPropertyType</th>\n",
       "      <th>PropertyName</th>\n",
       "      <th>Address</th>\n",
       "      <th>City</th>\n",
       "      <th>State</th>\n",
       "      <th>ZipCode</th>\n",
       "      <th>TaxParcelIdentificationNumber</th>\n",
       "      <th>...</th>\n",
       "      <th>Electricity(kWh)</th>\n",
       "      <th>Electricity(kBtu)</th>\n",
       "      <th>NaturalGas(therms)</th>\n",
       "      <th>NaturalGas(kBtu)</th>\n",
       "      <th>DefaultData</th>\n",
       "      <th>Comments</th>\n",
       "      <th>ComplianceStatus</th>\n",
       "      <th>Outlier</th>\n",
       "      <th>TotalGHGEmissions</th>\n",
       "      <th>GHGEmissionsIntensity</th>\n",
       "    </tr>\n",
       "  </thead>\n",
       "  <tbody>\n",
       "    <tr>\n",
       "      <th>0</th>\n",
       "      <td>1</td>\n",
       "      <td>2016</td>\n",
       "      <td>NonResidential</td>\n",
       "      <td>Hotel</td>\n",
       "      <td>Mayflower park hotel</td>\n",
       "      <td>405 Olive way</td>\n",
       "      <td>Seattle</td>\n",
       "      <td>WA</td>\n",
       "      <td>98101.0</td>\n",
       "      <td>0659000030</td>\n",
       "      <td>...</td>\n",
       "      <td>1.156514e+06</td>\n",
       "      <td>3946027.0</td>\n",
       "      <td>12764.52930</td>\n",
       "      <td>1276453.0</td>\n",
       "      <td>False</td>\n",
       "      <td>NaN</td>\n",
       "      <td>Compliant</td>\n",
       "      <td>NaN</td>\n",
       "      <td>249.98</td>\n",
       "      <td>2.83</td>\n",
       "    </tr>\n",
       "    <tr>\n",
       "      <th>1</th>\n",
       "      <td>2</td>\n",
       "      <td>2016</td>\n",
       "      <td>NonResidential</td>\n",
       "      <td>Hotel</td>\n",
       "      <td>Paramount Hotel</td>\n",
       "      <td>724 Pine street</td>\n",
       "      <td>Seattle</td>\n",
       "      <td>WA</td>\n",
       "      <td>98101.0</td>\n",
       "      <td>0659000220</td>\n",
       "      <td>...</td>\n",
       "      <td>9.504252e+05</td>\n",
       "      <td>3242851.0</td>\n",
       "      <td>51450.81641</td>\n",
       "      <td>5145082.0</td>\n",
       "      <td>False</td>\n",
       "      <td>NaN</td>\n",
       "      <td>Compliant</td>\n",
       "      <td>NaN</td>\n",
       "      <td>295.86</td>\n",
       "      <td>2.86</td>\n",
       "    </tr>\n",
       "    <tr>\n",
       "      <th>2</th>\n",
       "      <td>3</td>\n",
       "      <td>2016</td>\n",
       "      <td>NonResidential</td>\n",
       "      <td>Hotel</td>\n",
       "      <td>5673-The Westin Seattle</td>\n",
       "      <td>1900 5th Avenue</td>\n",
       "      <td>Seattle</td>\n",
       "      <td>WA</td>\n",
       "      <td>98101.0</td>\n",
       "      <td>0659000475</td>\n",
       "      <td>...</td>\n",
       "      <td>1.451544e+07</td>\n",
       "      <td>49526664.0</td>\n",
       "      <td>14938.00000</td>\n",
       "      <td>1493800.0</td>\n",
       "      <td>False</td>\n",
       "      <td>NaN</td>\n",
       "      <td>Compliant</td>\n",
       "      <td>NaN</td>\n",
       "      <td>2089.28</td>\n",
       "      <td>2.19</td>\n",
       "    </tr>\n",
       "    <tr>\n",
       "      <th>3</th>\n",
       "      <td>5</td>\n",
       "      <td>2016</td>\n",
       "      <td>NonResidential</td>\n",
       "      <td>Hotel</td>\n",
       "      <td>HOTEL MAX</td>\n",
       "      <td>620 STEWART ST</td>\n",
       "      <td>Seattle</td>\n",
       "      <td>WA</td>\n",
       "      <td>98101.0</td>\n",
       "      <td>0659000640</td>\n",
       "      <td>...</td>\n",
       "      <td>8.115253e+05</td>\n",
       "      <td>2768924.0</td>\n",
       "      <td>18112.13086</td>\n",
       "      <td>1811213.0</td>\n",
       "      <td>False</td>\n",
       "      <td>NaN</td>\n",
       "      <td>Compliant</td>\n",
       "      <td>NaN</td>\n",
       "      <td>286.43</td>\n",
       "      <td>4.67</td>\n",
       "    </tr>\n",
       "    <tr>\n",
       "      <th>4</th>\n",
       "      <td>8</td>\n",
       "      <td>2016</td>\n",
       "      <td>NonResidential</td>\n",
       "      <td>Hotel</td>\n",
       "      <td>WARWICK SEATTLE HOTEL (ID8)</td>\n",
       "      <td>401 LENORA ST</td>\n",
       "      <td>Seattle</td>\n",
       "      <td>WA</td>\n",
       "      <td>98121.0</td>\n",
       "      <td>0659000970</td>\n",
       "      <td>...</td>\n",
       "      <td>1.573449e+06</td>\n",
       "      <td>5368607.0</td>\n",
       "      <td>88039.98438</td>\n",
       "      <td>8803998.0</td>\n",
       "      <td>False</td>\n",
       "      <td>NaN</td>\n",
       "      <td>Compliant</td>\n",
       "      <td>NaN</td>\n",
       "      <td>505.01</td>\n",
       "      <td>2.88</td>\n",
       "    </tr>\n",
       "  </tbody>\n",
       "</table>\n",
       "<p>5 rows × 46 columns</p>\n",
       "</div>"
      ],
      "text/plain": [
       "   OSEBuildingID  DataYear    BuildingType PrimaryPropertyType  \\\n",
       "0              1      2016  NonResidential               Hotel   \n",
       "1              2      2016  NonResidential               Hotel   \n",
       "2              3      2016  NonResidential               Hotel   \n",
       "3              5      2016  NonResidential               Hotel   \n",
       "4              8      2016  NonResidential               Hotel   \n",
       "\n",
       "                  PropertyName          Address     City State  ZipCode  \\\n",
       "0         Mayflower park hotel    405 Olive way  Seattle    WA  98101.0   \n",
       "1              Paramount Hotel  724 Pine street  Seattle    WA  98101.0   \n",
       "2      5673-The Westin Seattle  1900 5th Avenue  Seattle    WA  98101.0   \n",
       "3                    HOTEL MAX   620 STEWART ST  Seattle    WA  98101.0   \n",
       "4  WARWICK SEATTLE HOTEL (ID8)    401 LENORA ST  Seattle    WA  98121.0   \n",
       "\n",
       "  TaxParcelIdentificationNumber  ...  Electricity(kWh) Electricity(kBtu)  \\\n",
       "0                    0659000030  ...      1.156514e+06         3946027.0   \n",
       "1                    0659000220  ...      9.504252e+05         3242851.0   \n",
       "2                    0659000475  ...      1.451544e+07        49526664.0   \n",
       "3                    0659000640  ...      8.115253e+05         2768924.0   \n",
       "4                    0659000970  ...      1.573449e+06         5368607.0   \n",
       "\n",
       "   NaturalGas(therms)  NaturalGas(kBtu)  DefaultData  Comments  \\\n",
       "0         12764.52930         1276453.0        False       NaN   \n",
       "1         51450.81641         5145082.0        False       NaN   \n",
       "2         14938.00000         1493800.0        False       NaN   \n",
       "3         18112.13086         1811213.0        False       NaN   \n",
       "4         88039.98438         8803998.0        False       NaN   \n",
       "\n",
       "   ComplianceStatus  Outlier  TotalGHGEmissions  GHGEmissionsIntensity  \n",
       "0         Compliant      NaN             249.98                   2.83  \n",
       "1         Compliant      NaN             295.86                   2.86  \n",
       "2         Compliant      NaN            2089.28                   2.19  \n",
       "3         Compliant      NaN             286.43                   4.67  \n",
       "4         Compliant      NaN             505.01                   2.88  \n",
       "\n",
       "[5 rows x 46 columns]"
      ]
     },
     "execution_count": 5,
     "metadata": {},
     "output_type": "execute_result"
    }
   ],
   "source": [
    "# Observation du dataset\n",
    "data.head()"
   ]
  },
  {
   "cell_type": "code",
   "execution_count": 6,
   "id": "8d5f78e1",
   "metadata": {},
   "outputs": [
    {
     "data": {
      "text/plain": [
       "(3376, 46)"
      ]
     },
     "execution_count": 6,
     "metadata": {},
     "output_type": "execute_result"
    }
   ],
   "source": [
    "# Dimension du dataset\n",
    "data.shape"
   ]
  },
  {
   "cell_type": "markdown",
   "id": "90d8151d",
   "metadata": {},
   "source": [
    "3400 individus et 46 variables, cela me paraît raisonnable au niveau des individus mais avec beaucoup de variables, une réduction sera nécessaire. "
   ]
  },
  {
   "cell_type": "markdown",
   "id": "3c49dd7c",
   "metadata": {},
   "source": [
    "### Structure "
   ]
  },
  {
   "cell_type": "code",
   "execution_count": 7,
   "id": "072547a4",
   "metadata": {},
   "outputs": [
    {
     "data": {
      "text/plain": [
       "OSEBuildingID                        int64\n",
       "DataYear                             int64\n",
       "BuildingType                        object\n",
       "PrimaryPropertyType                 object\n",
       "PropertyName                        object\n",
       "Address                             object\n",
       "City                                object\n",
       "State                               object\n",
       "ZipCode                            float64\n",
       "TaxParcelIdentificationNumber       object\n",
       "CouncilDistrictCode                  int64\n",
       "Neighborhood                        object\n",
       "Latitude                           float64\n",
       "Longitude                          float64\n",
       "YearBuilt                            int64\n",
       "NumberofBuildings                  float64\n",
       "NumberofFloors                       int64\n",
       "PropertyGFATotal                     int64\n",
       "PropertyGFAParking                   int64\n",
       "PropertyGFABuilding(s)               int64\n",
       "ListOfAllPropertyUseTypes           object\n",
       "LargestPropertyUseType              object\n",
       "LargestPropertyUseTypeGFA          float64\n",
       "SecondLargestPropertyUseType        object\n",
       "SecondLargestPropertyUseTypeGFA    float64\n",
       "ThirdLargestPropertyUseType         object\n",
       "ThirdLargestPropertyUseTypeGFA     float64\n",
       "YearsENERGYSTARCertified            object\n",
       "ENERGYSTARScore                    float64\n",
       "SiteEUI(kBtu/sf)                   float64\n",
       "SiteEUIWN(kBtu/sf)                 float64\n",
       "SourceEUI(kBtu/sf)                 float64\n",
       "SourceEUIWN(kBtu/sf)               float64\n",
       "SiteEnergyUse(kBtu)                float64\n",
       "SiteEnergyUseWN(kBtu)              float64\n",
       "SteamUse(kBtu)                     float64\n",
       "Electricity(kWh)                   float64\n",
       "Electricity(kBtu)                  float64\n",
       "NaturalGas(therms)                 float64\n",
       "NaturalGas(kBtu)                   float64\n",
       "DefaultData                           bool\n",
       "Comments                           float64\n",
       "ComplianceStatus                    object\n",
       "Outlier                             object\n",
       "TotalGHGEmissions                  float64\n",
       "GHGEmissionsIntensity              float64\n",
       "dtype: object"
      ]
     },
     "execution_count": 7,
     "metadata": {},
     "output_type": "execute_result"
    }
   ],
   "source": [
    "# Types de données disponibles dans le dataset\n",
    "data.dtypes"
   ]
  },
  {
   "cell_type": "code",
   "execution_count": 9,
   "id": "8acccbc6",
   "metadata": {},
   "outputs": [
    {
     "data": {
      "text/plain": [
       "<AxesSubplot:ylabel='None'>"
      ]
     },
     "execution_count": 9,
     "metadata": {},
     "output_type": "execute_result"
    },
    {
     "data": {
      "image/png": "[encoded data removed]",
      "text/plain": [
       "<Figure size 640x480 with 1 Axes>"
      ]
     },
     "metadata": {},
     "output_type": "display_data"
    }
   ],
   "source": [
    "# Proportion des types de données\n",
    "data.dtypes.value_counts().plot.pie()"
   ]
  },
  {
   "cell_type": "code",
   "execution_count": 10,
   "id": "b7206d6e",
   "metadata": {},
   "outputs": [
    {
     "data": {
      "text/plain": [
       "Index(['OSEBuildingID', 'DataYear', 'BuildingType', 'PrimaryPropertyType',\n",
       "       'PropertyName', 'Address', 'City', 'State', 'ZipCode',\n",
       "       'TaxParcelIdentificationNumber', 'CouncilDistrictCode', 'Neighborhood',\n",
       "       'Latitude', 'Longitude', 'YearBuilt', 'NumberofBuildings',\n",
       "       'NumberofFloors', 'PropertyGFATotal', 'PropertyGFAParking',\n",
       "       'PropertyGFABuilding(s)', 'ListOfAllPropertyUseTypes',\n",
       "       'LargestPropertyUseType', 'LargestPropertyUseTypeGFA',\n",
       "       'SecondLargestPropertyUseType', 'SecondLargestPropertyUseTypeGFA',\n",
       "       'ThirdLargestPropertyUseType', 'ThirdLargestPropertyUseTypeGFA',\n",
       "       'YearsENERGYSTARCertified', 'ENERGYSTARScore', 'SiteEUI(kBtu/sf)',\n",
       "       'SiteEUIWN(kBtu/sf)', 'SourceEUI(kBtu/sf)', 'SourceEUIWN(kBtu/sf)',\n",
       "       'SiteEnergyUse(kBtu)', 'SiteEnergyUseWN(kBtu)', 'SteamUse(kBtu)',\n",
       "       'Electricity(kWh)', 'Electricity(kBtu)', 'NaturalGas(therms)',\n",
       "       'NaturalGas(kBtu)', 'DefaultData', 'Comments', 'ComplianceStatus',\n",
       "       'Outlier', 'TotalGHGEmissions', 'GHGEmissionsIntensity'],\n",
       "      dtype='object')"
      ]
     },
     "execution_count": 10,
     "metadata": {},
     "output_type": "execute_result"
    }
   ],
   "source": [
    "# Observation des variables\n",
    "data.columns "
   ]
  },
  {
   "cell_type": "code",
   "execution_count": 11,
   "id": "23e0e7be",
   "metadata": {},
   "outputs": [
    {
     "name": "stdout",
     "output_type": "stream",
     "text": [
      "<class 'pandas.core.frame.DataFrame'>\n",
      "RangeIndex: 3376 entries, 0 to 3375\n",
      "Data columns (total 46 columns):\n",
      " #   Column                           Non-Null Count  Dtype  \n",
      "---  ------                           --------------  -----  \n",
      " 0   OSEBuildingID                    3376 non-null   int64  \n",
      " 1   DataYear                         3376 non-null   int64  \n",
      " 2   BuildingType                     3376 non-null   object \n",
      " 3   PrimaryPropertyType              3376 non-null   object \n",
      " 4   PropertyName                     3376 non-null   object \n",
      " 5   Address                          3376 non-null   object \n",
      " 6   City                             3376 non-null   object \n",
      " 7   State                            3376 non-null   object \n",
      " 8   ZipCode                          3360 non-null   float64\n",
      " 9   TaxParcelIdentificationNumber    3376 non-null   object \n",
      " 10  CouncilDistrictCode              3376 non-null   int64  \n",
      " 11  Neighborhood                     3376 non-null   object \n",
      " 12  Latitude                         3376 non-null   float64\n",
      " 13  Longitude                        3376 non-null   float64\n",
      " 14  YearBuilt                        3376 non-null   int64  \n",
      " 15  NumberofBuildings                3368 non-null   float64\n",
      " 16  NumberofFloors                   3376 non-null   int64  \n",
      " 17  PropertyGFATotal                 3376 non-null   int64  \n",
      " 18  PropertyGFAParking               3376 non-null   int64  \n",
      " 19  PropertyGFABuilding(s)           3376 non-null   int64  \n",
      " 20  ListOfAllPropertyUseTypes        3367 non-null   object \n",
      " 21  LargestPropertyUseType           3356 non-null   object \n",
      " 22  LargestPropertyUseTypeGFA        3356 non-null   float64\n",
      " 23  SecondLargestPropertyUseType     1679 non-null   object \n",
      " 24  SecondLargestPropertyUseTypeGFA  1679 non-null   float64\n",
      " 25  ThirdLargestPropertyUseType      596 non-null    object \n",
      " 26  ThirdLargestPropertyUseTypeGFA   596 non-null    float64\n",
      " 27  YearsENERGYSTARCertified         119 non-null    object \n",
      " 28  ENERGYSTARScore                  2533 non-null   float64\n",
      " 29  SiteEUI(kBtu/sf)                 3369 non-null   float64\n",
      " 30  SiteEUIWN(kBtu/sf)               3370 non-null   float64\n",
      " 31  SourceEUI(kBtu/sf)               3367 non-null   float64\n",
      " 32  SourceEUIWN(kBtu/sf)             3367 non-null   float64\n",
      " 33  SiteEnergyUse(kBtu)              3371 non-null   float64\n",
      " 34  SiteEnergyUseWN(kBtu)            3370 non-null   float64\n",
      " 35  SteamUse(kBtu)                   3367 non-null   float64\n",
      " 36  Electricity(kWh)                 3367 non-null   float64\n",
      " 37  Electricity(kBtu)                3367 non-null   float64\n",
      " 38  NaturalGas(therms)               3367 non-null   float64\n",
      " 39  NaturalGas(kBtu)                 3367 non-null   float64\n",
      " 40  DefaultData                      3376 non-null   bool   \n",
      " 41  Comments                         0 non-null      float64\n",
      " 42  ComplianceStatus                 3376 non-null   object \n",
      " 43  Outlier                          32 non-null     object \n",
      " 44  TotalGHGEmissions                3367 non-null   float64\n",
      " 45  GHGEmissionsIntensity            3367 non-null   float64\n",
      "dtypes: bool(1), float64(22), int64(8), object(15)\n",
      "memory usage: 1.2+ MB\n"
     ]
    }
   ],
   "source": [
    "# Informations sur le jeu de données\n",
    "data.info()"
   ]
  },
  {
   "cell_type": "markdown",
   "id": "78f8fcff",
   "metadata": {},
   "source": [
    "### NAN et dupliqué"
   ]
  },
  {
   "cell_type": "code",
   "execution_count": 96,
   "id": "c9f6add0",
   "metadata": {},
   "outputs": [
    {
     "data": {
      "text/plain": [
       "OSEBuildingID                         0\n",
       "DataYear                              0\n",
       "BuildingType                          0\n",
       "PrimaryPropertyType                   0\n",
       "PropertyName                          0\n",
       "Address                               0\n",
       "City                                  0\n",
       "State                                 0\n",
       "ZipCode                              16\n",
       "TaxParcelIdentificationNumber         0\n",
       "CouncilDistrictCode                   0\n",
       "Neighborhood                          0\n",
       "Latitude                              0\n",
       "Longitude                             0\n",
       "YearBuilt                             0\n",
       "NumberofBuildings                     8\n",
       "NumberofFloors                        0\n",
       "PropertyGFATotal                      0\n",
       "PropertyGFAParking                    0\n",
       "PropertyGFABuilding(s)                0\n",
       "ListOfAllPropertyUseTypes             9\n",
       "LargestPropertyUseType               20\n",
       "LargestPropertyUseTypeGFA            20\n",
       "SecondLargestPropertyUseType       1697\n",
       "SecondLargestPropertyUseTypeGFA    1697\n",
       "ThirdLargestPropertyUseType        2780\n",
       "ThirdLargestPropertyUseTypeGFA     2780\n",
       "YearsENERGYSTARCertified           3257\n",
       "ENERGYSTARScore                     843\n",
       "SiteEUI(kBtu/sf)                      7\n",
       "SiteEUIWN(kBtu/sf)                    6\n",
       "SourceEUI(kBtu/sf)                    9\n",
       "SourceEUIWN(kBtu/sf)                  9\n",
       "SiteEnergyUse(kBtu)                   5\n",
       "SiteEnergyUseWN(kBtu)                 6\n",
       "SteamUse(kBtu)                        9\n",
       "Electricity(kWh)                      9\n",
       "Electricity(kBtu)                     9\n",
       "NaturalGas(therms)                    9\n",
       "NaturalGas(kBtu)                      9\n",
       "DefaultData                           0\n",
       "Comments                           3376\n",
       "ComplianceStatus                      0\n",
       "Outlier                            3344\n",
       "TotalGHGEmissions                     9\n",
       "GHGEmissionsIntensity                 9\n",
       "dtype: int64"
      ]
     },
     "execution_count": 96,
     "metadata": {},
     "output_type": "execute_result"
    }
   ],
   "source": [
    "# Observation des valeurs manquantes \n",
    "data.isna().sum()"
   ]
  },
  {
   "cell_type": "code",
   "execution_count": 8,
   "id": "409628c1",
   "metadata": {},
   "outputs": [
    {
     "data": {
      "text/plain": [
       "0"
      ]
     },
     "execution_count": 8,
     "metadata": {},
     "output_type": "execute_result"
    }
   ],
   "source": [
    "data.duplicated().sum() \n",
    "# 0 doublons parfait"
   ]
  },
  {
   "cell_type": "markdown",
   "id": "315788a3",
   "metadata": {},
   "source": [
    "### Inspection de la donnée"
   ]
  },
  {
   "cell_type": "code",
   "execution_count": null,
   "id": "bbe3b357",
   "metadata": {},
   "outputs": [],
   "source": [
    "# Description générale des variables quantitatives\n",
    "data.describe()"
   ]
  },
  {
   "cell_type": "markdown",
   "id": "6281b0f5",
   "metadata": {},
   "source": [
    "### Nettoyage"
   ]
  },
  {
   "cell_type": "code",
   "execution_count": 9,
   "id": "7445ad68",
   "metadata": {},
   "outputs": [],
   "source": [
    "# Supprimer les colonnes sans données et les lignes completement vides\n",
    "data.dropna(axis = 1, how = 'all', inplace = True) # Les colonnes sans aucune données\n",
    "data.dropna(axis = 0, how = 'all', inplace = True) # Les lignes sans données "
   ]
  },
  {
   "cell_type": "markdown",
   "id": "6d6a4308",
   "metadata": {},
   "source": [
    "#### Suppression des colonnes qui ne possèdent qu'une information unique"
   ]
  },
  {
   "cell_type": "code",
   "execution_count": 10,
   "id": "47f3348b",
   "metadata": {},
   "outputs": [
    {
     "data": {
      "text/plain": [
       "OSEBuildingID                      3376\n",
       "DataYear                              1\n",
       "BuildingType                          8\n",
       "PrimaryPropertyType                  24\n",
       "PropertyName                       3362\n",
       "Address                            3354\n",
       "City                                  1\n",
       "State                                 1\n",
       "ZipCode                              55\n",
       "TaxParcelIdentificationNumber      3268\n",
       "CouncilDistrictCode                   7\n",
       "Neighborhood                         19\n",
       "Latitude                           2876\n",
       "Longitude                          2656\n",
       "YearBuilt                           113\n",
       "NumberofBuildings                    17\n",
       "NumberofFloors                       50\n",
       "PropertyGFATotal                   3195\n",
       "PropertyGFAParking                  496\n",
       "PropertyGFABuilding(s)             3193\n",
       "ListOfAllPropertyUseTypes           466\n",
       "LargestPropertyUseType               56\n",
       "LargestPropertyUseTypeGFA          3122\n",
       "SecondLargestPropertyUseType         50\n",
       "SecondLargestPropertyUseTypeGFA    1352\n",
       "ThirdLargestPropertyUseType          44\n",
       "ThirdLargestPropertyUseTypeGFA      501\n",
       "YearsENERGYSTARCertified             65\n",
       "ENERGYSTARScore                     100\n",
       "SiteEUI(kBtu/sf)                   1085\n",
       "SiteEUIWN(kBtu/sf)                 1105\n",
       "SourceEUI(kBtu/sf)                 1648\n",
       "SourceEUIWN(kBtu/sf)               1694\n",
       "SiteEnergyUse(kBtu)                3354\n",
       "SiteEnergyUseWN(kBtu)              3341\n",
       "SteamUse(kBtu)                      131\n",
       "Electricity(kWh)                   3352\n",
       "Electricity(kBtu)                  3351\n",
       "NaturalGas(therms)                 2109\n",
       "NaturalGas(kBtu)                   2109\n",
       "DefaultData                           2\n",
       "ComplianceStatus                      4\n",
       "Outlier                               2\n",
       "TotalGHGEmissions                  2818\n",
       "GHGEmissionsIntensity               511\n",
       "dtype: int64"
      ]
     },
     "execution_count": 10,
     "metadata": {},
     "output_type": "execute_result"
    }
   ],
   "source": [
    "tmp = data.nunique()\n",
    "tmp"
   ]
  },
  {
   "cell_type": "code",
   "execution_count": 11,
   "id": "a680ca4d",
   "metadata": {},
   "outputs": [
    {
     "data": {
      "text/plain": [
       "Index(['DataYear', 'City', 'State'], dtype='object')"
      ]
     },
     "execution_count": 11,
     "metadata": {},
     "output_type": "execute_result"
    }
   ],
   "source": [
    "cols = tmp[tmp==1].index\n",
    "cols"
   ]
  },
  {
   "cell_type": "code",
   "execution_count": 12,
   "id": "bca38f83",
   "metadata": {},
   "outputs": [
    {
     "data": {
      "text/plain": [
       "OSEBuildingID                      3376\n",
       "BuildingType                          8\n",
       "PrimaryPropertyType                  24\n",
       "PropertyName                       3362\n",
       "Address                            3354\n",
       "ZipCode                              55\n",
       "TaxParcelIdentificationNumber      3268\n",
       "CouncilDistrictCode                   7\n",
       "Neighborhood                         19\n",
       "Latitude                           2876\n",
       "Longitude                          2656\n",
       "YearBuilt                           113\n",
       "NumberofBuildings                    17\n",
       "NumberofFloors                       50\n",
       "PropertyGFATotal                   3195\n",
       "PropertyGFAParking                  496\n",
       "PropertyGFABuilding(s)             3193\n",
       "ListOfAllPropertyUseTypes           466\n",
       "LargestPropertyUseType               56\n",
       "LargestPropertyUseTypeGFA          3122\n",
       "SecondLargestPropertyUseType         50\n",
       "SecondLargestPropertyUseTypeGFA    1352\n",
       "ThirdLargestPropertyUseType          44\n",
       "ThirdLargestPropertyUseTypeGFA      501\n",
       "YearsENERGYSTARCertified             65\n",
       "ENERGYSTARScore                     100\n",
       "SiteEUI(kBtu/sf)                   1085\n",
       "SiteEUIWN(kBtu/sf)                 1105\n",
       "SourceEUI(kBtu/sf)                 1648\n",
       "SourceEUIWN(kBtu/sf)               1694\n",
       "SiteEnergyUse(kBtu)                3354\n",
       "SiteEnergyUseWN(kBtu)              3341\n",
       "SteamUse(kBtu)                      131\n",
       "Electricity(kWh)                   3352\n",
       "Electricity(kBtu)                  3351\n",
       "NaturalGas(therms)                 2109\n",
       "NaturalGas(kBtu)                   2109\n",
       "DefaultData                           2\n",
       "ComplianceStatus                      4\n",
       "Outlier                               2\n",
       "TotalGHGEmissions                  2818\n",
       "GHGEmissionsIntensity               511\n",
       "dtype: int64"
      ]
     },
     "execution_count": 12,
     "metadata": {},
     "output_type": "execute_result"
    }
   ],
   "source": [
    "data.drop(columns = cols, inplace = True)\n",
    "data.nunique()"
   ]
  },
  {
   "cell_type": "markdown",
   "id": "938490e5",
   "metadata": {},
   "source": [
    "#### Filtrage technique"
   ]
  },
  {
   "cell_type": "code",
   "execution_count": 13,
   "id": "769af328",
   "metadata": {},
   "outputs": [
    {
     "data": {
      "text/plain": [
       "(3344, 42)"
      ]
     },
     "execution_count": 13,
     "metadata": {},
     "output_type": "execute_result"
    }
   ],
   "source": [
    "# Suppression des outliers dans le dataset \n",
    "data = data[data[\"Outlier\"].isna()]\n",
    "data.shape"
   ]
  },
  {
   "cell_type": "code",
   "execution_count": 14,
   "id": "57de12dd",
   "metadata": {},
   "outputs": [],
   "source": [
    "# On recupère les propriétés qui répondent aux exigences d'analyse et dont on est sûr qu'ils ne contiennent pas de données erronées\n",
    "data = data[data[\"ComplianceStatus\"]==\"Compliant\"]"
   ]
  },
  {
   "cell_type": "code",
   "execution_count": 15,
   "id": "80e907fe",
   "metadata": {},
   "outputs": [
    {
     "data": {
      "text/plain": [
       "36"
      ]
     },
     "execution_count": 15,
     "metadata": {},
     "output_type": "execute_result"
    }
   ],
   "source": [
    "# Fixation d'un seuil pour éliminer les variables qui contiennent trop de données manquantes\n",
    "nb_na = data.isnull().sum()\n",
    "seuil = 0.3*len(data) # Seuil d'acceptation à 30%, on accepte 30% de valeurs manquantes au maximum \n",
    "data.shape[1]-len(nb_na[nb_na>seuil]) # 36 colonnes ont moins de 30% de valeurs nulles"
   ]
  },
  {
   "cell_type": "code",
   "execution_count": 16,
   "id": "eadf5fad",
   "metadata": {},
   "outputs": [],
   "source": [
    "# On supprime les colonnes qui ne repondent pas à notre condition\n",
    "to_drop = nb_na[nb_na>seuil].index\n",
    "data.drop(to_drop, axis = 1, inplace = True)"
   ]
  },
  {
   "cell_type": "code",
   "execution_count": 17,
   "id": "fb065e87",
   "metadata": {},
   "outputs": [
    {
     "data": {
      "text/plain": [
       "(3211, 36)"
      ]
     },
     "execution_count": 17,
     "metadata": {},
     "output_type": "execute_result"
    }
   ],
   "source": [
    "data.shape"
   ]
  },
  {
   "cell_type": "code",
   "execution_count": 18,
   "id": "1b1a8aa6",
   "metadata": {},
   "outputs": [],
   "source": [
    "# On conserve les bâtiments qui ne sont pas destinés à l'habitation, car la demande du projet porte sur les bâtiments non destinés à l'habitation\n",
    "data = data[(data[\"BuildingType\"].str.find('NonResidential') != -1) | (data[\"BuildingType\"].str.find('Nonresidential') != -1)]"
   ]
  },
  {
   "cell_type": "code",
   "execution_count": 19,
   "id": "79d4f3b3",
   "metadata": {},
   "outputs": [
    {
     "data": {
      "text/plain": [
       "(1514, 36)"
      ]
     },
     "execution_count": 19,
     "metadata": {},
     "output_type": "execute_result"
    }
   ],
   "source": [
    "data.shape"
   ]
  },
  {
   "cell_type": "markdown",
   "id": "8fe7fe9a",
   "metadata": {},
   "source": [
    "#### Filtrage metier "
   ]
  },
  {
   "cell_type": "markdown",
   "id": "f74a8953",
   "metadata": {},
   "source": [
    "Il ne faut pas prendre en compte toute les variables avec les kbtu, car cela permet d'expliquer la target à travers les autres variables.  \n",
    "De plus, cela permet d'éviter le data leakage car ces données ne seront pas disponibles selon l'encadré donné dans le cadre de l'explication du projet."
   ]
  },
  {
   "cell_type": "code",
   "execution_count": 23,
   "id": "4596be49",
   "metadata": {},
   "outputs": [],
   "source": [
    "# On sélectionne les variables à étudier dans un premier temps, on rajoutera d'autres variables dans un second temps\n",
    "variables = [\"YearBuilt\", \"NumberofBuildings\", \"NumberofFloors\", \"PropertyGFABuilding(s)\", \"PropertyGFATotal\", \"TotalGHGEmissions\", \"SiteEnergyUse(kBtu)\", \"ENERGYSTARScore\" ]"
   ]
  },
  {
   "cell_type": "code",
   "execution_count": 24,
   "id": "337da5b0",
   "metadata": {},
   "outputs": [],
   "source": [
    "# Creation de notre nouveau dataset\n",
    "data1 = data[variables]"
   ]
  },
  {
   "cell_type": "code",
   "execution_count": 25,
   "id": "1e52cc99",
   "metadata": {
    "scrolled": true
   },
   "outputs": [
    {
     "data": {
      "text/plain": [
       "YearBuilt                 0.000000\n",
       "NumberofBuildings         0.000000\n",
       "NumberofFloors            0.000000\n",
       "PropertyGFABuilding(s)    0.000000\n",
       "PropertyGFATotal          0.000000\n",
       "TotalGHGEmissions         0.000000\n",
       "SiteEnergyUse(kBtu)       0.000000\n",
       "ENERGYSTARScore           0.350066\n",
       "dtype: float64"
      ]
     },
     "execution_count": 25,
     "metadata": {},
     "output_type": "execute_result"
    }
   ],
   "source": [
    "# Données manquantes\n",
    "data1.isna().mean()"
   ]
  },
  {
   "cell_type": "code",
   "execution_count": 142,
   "id": "f0f523fb",
   "metadata": {},
   "outputs": [
    {
     "name": "stderr",
     "output_type": "stream",
     "text": [
      "2023-03-02 13:44:06,774 [5908] WARNING  py.warnings:109: [JupyterRequire] C:\\Users\\aguer\\AppData\\Local\\Temp\\ipykernel_5908\\709352113.py:2: SettingWithCopyWarning: \n",
      "A value is trying to be set on a copy of a slice from a DataFrame\n",
      "\n",
      "See the caveats in the documentation: https://pandas.pydata.org/pandas-docs/stable/user_guide/indexing.html#returning-a-view-versus-a-copy\n",
      "  data1.dropna(subset = \"TotalGHGEmissions\", inplace = True)\n",
      "\n"
     ]
    }
   ],
   "source": [
    "# On supprime les lignes qui ne possèdent pas de TotalGHGEmissions renseigné, car cela ne correspond que à 4 lignes et que c'est une de nos variables d'intérêt\n",
    "# data1.dropna(subset = \"TotalGHGEmissions\", inplace = True)"
   ]
  },
  {
   "cell_type": "code",
   "execution_count": 26,
   "id": "2fb5c1c3",
   "metadata": {},
   "outputs": [
    {
     "name": "stderr",
     "output_type": "stream",
     "text": [
      "2023-03-15 12:07:18,638 [16636] WARNING  py.warnings:109: [JupyterRequire] C:\\Users\\aguer\\AppData\\Local\\Temp\\ipykernel_16636\\1595310594.py:3: SettingWithCopyWarning: \n",
      "A value is trying to be set on a copy of a slice from a DataFrame\n",
      "\n",
      "See the caveats in the documentation: https://pandas.pydata.org/pandas-docs/stable/user_guide/indexing.html#returning-a-view-versus-a-copy\n",
      "  data1.drop('ENERGYSTARScore', axis = 1, inplace = True)\n",
      "\n"
     ]
    }
   ],
   "source": [
    "# On supprime la variable energySTARScore de notre jeu de données \n",
    "Energy = data1['ENERGYSTARScore']\n",
    "data1.drop('ENERGYSTARScore', axis = 1, inplace = True)"
   ]
  },
  {
   "cell_type": "code",
   "execution_count": 27,
   "id": "bee515dd",
   "metadata": {},
   "outputs": [
    {
     "data": {
      "text/html": [
       "<div>\n",
       "<style scoped>\n",
       "    .dataframe tbody tr th:only-of-type {\n",
       "        vertical-align: middle;\n",
       "    }\n",
       "\n",
       "    .dataframe tbody tr th {\n",
       "        vertical-align: top;\n",
       "    }\n",
       "\n",
       "    .dataframe thead th {\n",
       "        text-align: right;\n",
       "    }\n",
       "</style>\n",
       "<table border=\"1\" class=\"dataframe\">\n",
       "  <thead>\n",
       "    <tr style=\"text-align: right;\">\n",
       "      <th></th>\n",
       "      <th>YearBuilt</th>\n",
       "      <th>NumberofBuildings</th>\n",
       "      <th>NumberofFloors</th>\n",
       "      <th>PropertyGFABuilding(s)</th>\n",
       "      <th>PropertyGFATotal</th>\n",
       "      <th>TotalGHGEmissions</th>\n",
       "      <th>SiteEnergyUse(kBtu)</th>\n",
       "    </tr>\n",
       "  </thead>\n",
       "  <tbody>\n",
       "    <tr>\n",
       "      <th>YearBuilt</th>\n",
       "      <td>1.000000</td>\n",
       "      <td>0.041076</td>\n",
       "      <td>0.105018</td>\n",
       "      <td>0.182247</td>\n",
       "      <td>0.227418</td>\n",
       "      <td>0.077853</td>\n",
       "      <td>0.152553</td>\n",
       "    </tr>\n",
       "    <tr>\n",
       "      <th>NumberofBuildings</th>\n",
       "      <td>0.041076</td>\n",
       "      <td>1.000000</td>\n",
       "      <td>-0.008476</td>\n",
       "      <td>0.206213</td>\n",
       "      <td>0.173940</td>\n",
       "      <td>0.501924</td>\n",
       "      <td>0.414390</td>\n",
       "    </tr>\n",
       "    <tr>\n",
       "      <th>NumberofFloors</th>\n",
       "      <td>0.105018</td>\n",
       "      <td>-0.008476</td>\n",
       "      <td>1.000000</td>\n",
       "      <td>0.651805</td>\n",
       "      <td>0.685935</td>\n",
       "      <td>0.188095</td>\n",
       "      <td>0.389815</td>\n",
       "    </tr>\n",
       "    <tr>\n",
       "      <th>PropertyGFABuilding(s)</th>\n",
       "      <td>0.182247</td>\n",
       "      <td>0.206213</td>\n",
       "      <td>0.651805</td>\n",
       "      <td>1.000000</td>\n",
       "      <td>0.978367</td>\n",
       "      <td>0.508408</td>\n",
       "      <td>0.675340</td>\n",
       "    </tr>\n",
       "    <tr>\n",
       "      <th>PropertyGFATotal</th>\n",
       "      <td>0.227418</td>\n",
       "      <td>0.173940</td>\n",
       "      <td>0.685935</td>\n",
       "      <td>0.978367</td>\n",
       "      <td>1.000000</td>\n",
       "      <td>0.465045</td>\n",
       "      <td>0.649579</td>\n",
       "    </tr>\n",
       "    <tr>\n",
       "      <th>TotalGHGEmissions</th>\n",
       "      <td>0.077853</td>\n",
       "      <td>0.501924</td>\n",
       "      <td>0.188095</td>\n",
       "      <td>0.508408</td>\n",
       "      <td>0.465045</td>\n",
       "      <td>1.000000</td>\n",
       "      <td>0.881831</td>\n",
       "    </tr>\n",
       "    <tr>\n",
       "      <th>SiteEnergyUse(kBtu)</th>\n",
       "      <td>0.152553</td>\n",
       "      <td>0.414390</td>\n",
       "      <td>0.389815</td>\n",
       "      <td>0.675340</td>\n",
       "      <td>0.649579</td>\n",
       "      <td>0.881831</td>\n",
       "      <td>1.000000</td>\n",
       "    </tr>\n",
       "  </tbody>\n",
       "</table>\n",
       "</div>"
      ],
      "text/plain": [
       "                        YearBuilt  NumberofBuildings  NumberofFloors  \\\n",
       "YearBuilt                1.000000           0.041076        0.105018   \n",
       "NumberofBuildings        0.041076           1.000000       -0.008476   \n",
       "NumberofFloors           0.105018          -0.008476        1.000000   \n",
       "PropertyGFABuilding(s)   0.182247           0.206213        0.651805   \n",
       "PropertyGFATotal         0.227418           0.173940        0.685935   \n",
       "TotalGHGEmissions        0.077853           0.501924        0.188095   \n",
       "SiteEnergyUse(kBtu)      0.152553           0.414390        0.389815   \n",
       "\n",
       "                        PropertyGFABuilding(s)  PropertyGFATotal  \\\n",
       "YearBuilt                             0.182247          0.227418   \n",
       "NumberofBuildings                     0.206213          0.173940   \n",
       "NumberofFloors                        0.651805          0.685935   \n",
       "PropertyGFABuilding(s)                1.000000          0.978367   \n",
       "PropertyGFATotal                      0.978367          1.000000   \n",
       "TotalGHGEmissions                     0.508408          0.465045   \n",
       "SiteEnergyUse(kBtu)                   0.675340          0.649579   \n",
       "\n",
       "                        TotalGHGEmissions  SiteEnergyUse(kBtu)  \n",
       "YearBuilt                        0.077853             0.152553  \n",
       "NumberofBuildings                0.501924             0.414390  \n",
       "NumberofFloors                   0.188095             0.389815  \n",
       "PropertyGFABuilding(s)           0.508408             0.675340  \n",
       "PropertyGFATotal                 0.465045             0.649579  \n",
       "TotalGHGEmissions                1.000000             0.881831  \n",
       "SiteEnergyUse(kBtu)              0.881831             1.000000  "
      ]
     },
     "execution_count": 27,
     "metadata": {},
     "output_type": "execute_result"
    }
   ],
   "source": [
    "# Matrice de corrélation pour voir les liaisons entre nos variables\n",
    "data1.corr()"
   ]
  },
  {
   "cell_type": "markdown",
   "id": "1961afea",
   "metadata": {},
   "source": [
    "On remarque des corrélations fortes entre certaines variables comme le nombre de batiments et le l'electricité ou la surface et l'electricité."
   ]
  },
  {
   "cell_type": "markdown",
   "id": "46785721",
   "metadata": {},
   "source": [
    "#### Valeurs aberrantes"
   ]
  },
  {
   "cell_type": "code",
   "execution_count": 28,
   "id": "b04849e3",
   "metadata": {},
   "outputs": [
    {
     "data": {
      "text/html": [
       "<div>\n",
       "<style scoped>\n",
       "    .dataframe tbody tr th:only-of-type {\n",
       "        vertical-align: middle;\n",
       "    }\n",
       "\n",
       "    .dataframe tbody tr th {\n",
       "        vertical-align: top;\n",
       "    }\n",
       "\n",
       "    .dataframe thead th {\n",
       "        text-align: right;\n",
       "    }\n",
       "</style>\n",
       "<table border=\"1\" class=\"dataframe\">\n",
       "  <thead>\n",
       "    <tr style=\"text-align: right;\">\n",
       "      <th></th>\n",
       "      <th>YearBuilt</th>\n",
       "      <th>NumberofBuildings</th>\n",
       "      <th>NumberofFloors</th>\n",
       "      <th>PropertyGFABuilding(s)</th>\n",
       "      <th>PropertyGFATotal</th>\n",
       "      <th>TotalGHGEmissions</th>\n",
       "      <th>SiteEnergyUse(kBtu)</th>\n",
       "    </tr>\n",
       "  </thead>\n",
       "  <tbody>\n",
       "    <tr>\n",
       "      <th>count</th>\n",
       "      <td>1514.000000</td>\n",
       "      <td>1514.000000</td>\n",
       "      <td>1514.000000</td>\n",
       "      <td>1.514000e+03</td>\n",
       "      <td>1.514000e+03</td>\n",
       "      <td>1514.000000</td>\n",
       "      <td>1.514000e+03</td>\n",
       "    </tr>\n",
       "    <tr>\n",
       "      <th>mean</th>\n",
       "      <td>1961.542272</td>\n",
       "      <td>1.034346</td>\n",
       "      <td>4.320343</td>\n",
       "      <td>9.817993e+04</td>\n",
       "      <td>1.122383e+05</td>\n",
       "      <td>167.408151</td>\n",
       "      <td>7.726794e+06</td>\n",
       "    </tr>\n",
       "    <tr>\n",
       "      <th>std</th>\n",
       "      <td>32.817364</td>\n",
       "      <td>0.565717</td>\n",
       "      <td>6.845072</td>\n",
       "      <td>1.664155e+05</td>\n",
       "      <td>1.903593e+05</td>\n",
       "      <td>575.982871</td>\n",
       "      <td>1.879214e+07</td>\n",
       "    </tr>\n",
       "    <tr>\n",
       "      <th>min</th>\n",
       "      <td>1900.000000</td>\n",
       "      <td>0.000000</td>\n",
       "      <td>0.000000</td>\n",
       "      <td>3.636000e+03</td>\n",
       "      <td>1.128500e+04</td>\n",
       "      <td>-0.800000</td>\n",
       "      <td>5.713320e+04</td>\n",
       "    </tr>\n",
       "    <tr>\n",
       "      <th>25%</th>\n",
       "      <td>1930.000000</td>\n",
       "      <td>1.000000</td>\n",
       "      <td>1.000000</td>\n",
       "      <td>2.780000e+04</td>\n",
       "      <td>2.880000e+04</td>\n",
       "      <td>20.092500</td>\n",
       "      <td>1.233141e+06</td>\n",
       "    </tr>\n",
       "    <tr>\n",
       "      <th>50%</th>\n",
       "      <td>1965.000000</td>\n",
       "      <td>1.000000</td>\n",
       "      <td>2.000000</td>\n",
       "      <td>4.563700e+04</td>\n",
       "      <td>4.769250e+04</td>\n",
       "      <td>49.215000</td>\n",
       "      <td>2.665809e+06</td>\n",
       "    </tr>\n",
       "    <tr>\n",
       "      <th>75%</th>\n",
       "      <td>1988.000000</td>\n",
       "      <td>1.000000</td>\n",
       "      <td>4.000000</td>\n",
       "      <td>9.359625e+04</td>\n",
       "      <td>1.034245e+05</td>\n",
       "      <td>140.830000</td>\n",
       "      <td>7.064835e+06</td>\n",
       "    </tr>\n",
       "    <tr>\n",
       "      <th>max</th>\n",
       "      <td>2015.000000</td>\n",
       "      <td>9.000000</td>\n",
       "      <td>99.000000</td>\n",
       "      <td>1.765970e+06</td>\n",
       "      <td>1.952220e+06</td>\n",
       "      <td>12307.160000</td>\n",
       "      <td>2.930908e+08</td>\n",
       "    </tr>\n",
       "  </tbody>\n",
       "</table>\n",
       "</div>"
      ],
      "text/plain": [
       "         YearBuilt  NumberofBuildings  NumberofFloors  PropertyGFABuilding(s)  \\\n",
       "count  1514.000000        1514.000000     1514.000000            1.514000e+03   \n",
       "mean   1961.542272           1.034346        4.320343            9.817993e+04   \n",
       "std      32.817364           0.565717        6.845072            1.664155e+05   \n",
       "min    1900.000000           0.000000        0.000000            3.636000e+03   \n",
       "25%    1930.000000           1.000000        1.000000            2.780000e+04   \n",
       "50%    1965.000000           1.000000        2.000000            4.563700e+04   \n",
       "75%    1988.000000           1.000000        4.000000            9.359625e+04   \n",
       "max    2015.000000           9.000000       99.000000            1.765970e+06   \n",
       "\n",
       "       PropertyGFATotal  TotalGHGEmissions  SiteEnergyUse(kBtu)  \n",
       "count      1.514000e+03        1514.000000         1.514000e+03  \n",
       "mean       1.122383e+05         167.408151         7.726794e+06  \n",
       "std        1.903593e+05         575.982871         1.879214e+07  \n",
       "min        1.128500e+04          -0.800000         5.713320e+04  \n",
       "25%        2.880000e+04          20.092500         1.233141e+06  \n",
       "50%        4.769250e+04          49.215000         2.665809e+06  \n",
       "75%        1.034245e+05         140.830000         7.064835e+06  \n",
       "max        1.952220e+06       12307.160000         2.930908e+08  "
      ]
     },
     "execution_count": 28,
     "metadata": {},
     "output_type": "execute_result"
    }
   ],
   "source": [
    "data1.describe()"
   ]
  },
  {
   "cell_type": "code",
   "execution_count": 29,
   "id": "4a369546",
   "metadata": {},
   "outputs": [],
   "source": [
    "data1[data1.NumberofFloors >50]\n",
    "# En observant le jeu de données, on voit bien que la propriété avec 99 etages n'est pas bien renseignée\n",
    "# En effet, on remarque que malgré le nombre d'étage, la surface et les consommations ne correspondent pas\n",
    "# On supprime donc cette ligne\n",
    "data1 = data1[data1.NumberofFloors <90]"
   ]
  },
  {
   "cell_type": "code",
   "execution_count": 30,
   "id": "26eb7bac",
   "metadata": {},
   "outputs": [],
   "source": [
    "# Creation de notre dataset\n",
    "df = data1.copy()"
   ]
  },
  {
   "cell_type": "code",
   "execution_count": 31,
   "id": "812fb0c5",
   "metadata": {
    "scrolled": true
   },
   "outputs": [
    {
     "data": {
      "image/png": "[encoded data removed]",
      "text/plain": [
       "<Figure size 640x480 with 1 Axes>"
      ]
     },
     "metadata": {},
     "output_type": "display_data"
    },
    {
     "data": {
      "image/png": "[encoded data removed]",
      "text/plain": [
       "<Figure size 640x480 with 1 Axes>"
      ]
     },
     "metadata": {},
     "output_type": "display_data"
    },
    {
     "data": {
      "image/png": "[encoded data removed]",
      "text/plain": [
       "<Figure size 640x480 with 1 Axes>"
      ]
     },
     "metadata": {},
     "output_type": "display_data"
    },
    {
     "data": {
      "image/png": "[encoded data removed]",
      "text/plain": [
       "<Figure size 640x480 with 1 Axes>"
      ]
     },
     "metadata": {},
     "output_type": "display_data"
    },
    {
     "data": {
      "image/png": "[encoded data removed]",
      "text/plain": [
       "<Figure size 640x480 with 1 Axes>"
      ]
     },
     "metadata": {},
     "output_type": "display_data"
    },
    {
     "data": {
      "image/png": "[encoded data removed]",
      "text/plain": [
       "<Figure size 640x480 with 1 Axes>"
      ]
     },
     "metadata": {},
     "output_type": "display_data"
    },
    {
     "data": {
      "image/png": "[encoded data removed]",
      "text/plain": [
       "<Figure size 640x480 with 1 Axes>"
      ]
     },
     "metadata": {},
     "output_type": "display_data"
    }
   ],
   "source": [
    "# Boxplot pour observer la distribution de nos variables\n",
    "# On garde data1 pour pouvoir y ajouter après notre variable du score\n",
    "for elem in df.columns :\n",
    "    sns.boxplot(x=df[elem])\n",
    "    plt.show()"
   ]
  },
  {
   "cell_type": "code",
   "execution_count": 32,
   "id": "d783f03a",
   "metadata": {},
   "outputs": [
    {
     "name": "stdout",
     "output_type": "stream",
     "text": [
      "Le pourcentage de YearBuilt qui dépassent la borne maximale est : 0.0 %\n",
      "Cela correspond à 0 valeurs\n",
      "Le pourcentage de NumberofBuildings qui dépassent la borne maximale est : 2.51 %\n",
      "Cela correspond à 38 valeurs\n",
      "Le pourcentage de NumberofFloors qui dépassent la borne maximale est : 8.99 %\n",
      "Cela correspond à 136 valeurs\n",
      "Le pourcentage de PropertyGFABuilding(s) qui dépassent la borne maximale est : 10.51 %\n",
      "Cela correspond à 159 valeurs\n",
      "Le pourcentage de PropertyGFATotal qui dépassent la borne maximale est : 12.16 %\n",
      "Cela correspond à 184 valeurs\n",
      "Le pourcentage de TotalGHGEmissions qui dépassent la borne maximale est : 10.84 %\n",
      "Cela correspond à 164 valeurs\n",
      "Le pourcentage de SiteEnergyUse(kBtu) qui dépassent la borne maximale est : 11.17 %\n",
      "Cela correspond à 169 valeurs\n"
     ]
    }
   ],
   "source": [
    "# Approche interquartile pour détecter les outliers \n",
    "coeff = 1.5\n",
    "for elem in df.columns :\n",
    "    IQR = st.iqr(df[elem].dropna())\n",
    "    Q1 = np.percentile(df[elem].dropna(), 25, interpolation = 'midpoint') \n",
    "    Q2 = np.percentile(df[elem].dropna(), 50, interpolation = 'midpoint') \n",
    "    Q3 = np.percentile(df[elem].dropna(), 75, interpolation = 'midpoint')\n",
    "    low_lim = Q1 - coeff * IQR \n",
    "    up_lim = Q3 + coeff * IQR\n",
    "    print(\"Le pourcentage de\",elem,\"qui dépassent la borne maximale est :\", round(len(df[df[elem]>up_lim])/len(df)*100,2),'%')\n",
    "    print(\"Cela correspond à\",len(df[df[elem]>up_lim]),'valeurs')"
   ]
  },
  {
   "cell_type": "code",
   "execution_count": 33,
   "id": "8b5f9607",
   "metadata": {},
   "outputs": [],
   "source": [
    "# Modification du dataset avec remplacement des outliers par des valeurs nulles\n",
    "coeff = 1.5\n",
    "for elem in df.columns :\n",
    "    IQR = st.iqr(df[elem].dropna())\n",
    "    Q1 = np.percentile(df[elem].dropna(), 25, interpolation = 'midpoint') \n",
    "    Q2 = np.percentile(df[elem].dropna(), 50, interpolation = 'midpoint') \n",
    "    Q3 = np.percentile(df[elem].dropna(), 75, interpolation = 'midpoint')\n",
    "    low_lim = Q1 - coeff * IQR \n",
    "    up_lim = Q3 + coeff * IQR\n",
    "    df.loc[(df[elem] < low_lim) | (df[elem] > up_lim), elem] = np.nan"
   ]
  },
  {
   "cell_type": "code",
   "execution_count": 34,
   "id": "3fcb3428",
   "metadata": {
    "scrolled": true
   },
   "outputs": [
    {
     "data": {
      "text/plain": [
       "YearBuilt                   0\n",
       "NumberofBuildings          90\n",
       "NumberofFloors            136\n",
       "PropertyGFABuilding(s)    159\n",
       "PropertyGFATotal          184\n",
       "TotalGHGEmissions         164\n",
       "SiteEnergyUse(kBtu)       169\n",
       "dtype: int64"
      ]
     },
     "execution_count": 34,
     "metadata": {},
     "output_type": "execute_result"
    }
   ],
   "source": [
    "df.isna().sum()"
   ]
  },
  {
   "cell_type": "code",
   "execution_count": 76,
   "id": "4d1121bb",
   "metadata": {},
   "outputs": [],
   "source": [
    "# Imputer en utilisant la strategy de la moyenne \n",
    "data2 = df.copy()\n",
    "imp = SimpleImputer(strategy='mean')\n",
    "for elem in df.columns : \n",
    "    data2[elem] = imp.fit_transform(data2[elem].values.reshape(-1, 1))\n",
    "\n",
    "# Imputer en utilisant la strategy de la mediane \n",
    "data3 = df.copy()\n",
    "imp2 = SimpleImputer(strategy='median')\n",
    "for elem in df.columns : \n",
    "    data3[elem] = imp2.fit_transform(data3[elem].values.reshape(-1, 1))\n",
    "\n",
    "# Imputer en utilisant la strategy des KNN\n",
    "data4 = df.copy()\n",
    "imp3 = KNNImputer(n_neighbors=2, weights=\"uniform\")\n",
    "for elem in df.columns : \n",
    "    data4[elem] = imp3.fit_transform(data4[elem].values.reshape(-1, 1))"
   ]
  },
  {
   "cell_type": "code",
   "execution_count": 77,
   "id": "b92ffa6e",
   "metadata": {
    "scrolled": true
   },
   "outputs": [
    {
     "data": {
      "image/png": "[encoded data removed]",
      "text/plain": [
       "<Figure size 640x480 with 4 Axes>"
      ]
     },
     "metadata": {},
     "output_type": "display_data"
    },
    {
     "data": {
      "image/png": "[encoded data removed]",
      "text/plain": [
       "<Figure size 640x480 with 4 Axes>"
      ]
     },
     "metadata": {},
     "output_type": "display_data"
    },
    {
     "data": {
      "image/png": "[encoded data removed]",
      "text/plain": [
       "<Figure size 640x480 with 4 Axes>"
      ]
     },
     "metadata": {},
     "output_type": "display_data"
    },
    {
     "data": {
      "image/png": "[encoded data removed]",
      "text/plain": [
       "<Figure size 640x480 with 4 Axes>"
      ]
     },
     "metadata": {},
     "output_type": "display_data"
    },
    {
     "data": {
      "image/png": "[encoded data removed]",
      "text/plain": [
       "<Figure size 640x480 with 4 Axes>"
      ]
     },
     "metadata": {},
     "output_type": "display_data"
    },
    {
     "data": {
      "image/png": "[encoded data removed]",
      "text/plain": [
       "<Figure size 640x480 with 4 Axes>"
      ]
     },
     "metadata": {},
     "output_type": "display_data"
    },
    {
     "data": {
      "image/png": "[encoded data removed]",
      "text/plain": [
       "<Figure size 640x480 with 4 Axes>"
      ]
     },
     "metadata": {},
     "output_type": "display_data"
    }
   ],
   "source": [
    "for elem in df.columns : \n",
    "    plt.subplot(1,4,1)\n",
    "    plt.hist(df[elem].dropna(), \n",
    "         alpha=0.5, \n",
    "         label='original', color = 'blue') \n",
    "    plt.legend(loc='upper right')\n",
    "\n",
    "    plt.subplot(1,4,2)\n",
    "    plt.hist(data2[elem], \n",
    "         alpha=0.5,\n",
    "         label='mean', color = 'red')\n",
    "    plt.legend(loc='upper right')\n",
    "  \n",
    "    plt.subplot(1,4,3)\n",
    "    plt.hist(data3[elem], \n",
    "         alpha=0.5,\n",
    "         label='median', color = 'yellow')\n",
    "    plt.legend(loc='upper right')\n",
    "    \n",
    "    plt.subplot(1,4,4)    \n",
    "    plt.hist(data4[elem], \n",
    "         alpha=0.5,\n",
    "         label='knn 2', color = 'green')\n",
    "    plt.legend(loc='upper right')\n",
    "    \n",
    "    \n",
    "    plt.suptitle(elem)\n",
    "    plt.show()"
   ]
  },
  {
   "cell_type": "code",
   "execution_count": 35,
   "id": "8dc8faf5",
   "metadata": {},
   "outputs": [],
   "source": [
    "# Recuperation des noms des variables \n",
    "var = df.columns.tolist()"
   ]
  },
  {
   "cell_type": "code",
   "execution_count": 37,
   "id": "a6bc790f",
   "metadata": {},
   "outputs": [
    {
     "data": {
      "text/plain": [
       "['YearBuilt',\n",
       " 'NumberofBuildings',\n",
       " 'NumberofFloors',\n",
       " 'PropertyGFABuilding(s)',\n",
       " 'PropertyGFATotal',\n",
       " 'SiteEnergyUse(kBtu)']"
      ]
     },
     "execution_count": 37,
     "metadata": {},
     "output_type": "execute_result"
    }
   ],
   "source": [
    "# On supprime les variables dont on souhaite imputer par la médiane\n",
    "var.remove('TotalGHGEmissions')\n",
    "var"
   ]
  },
  {
   "cell_type": "code",
   "execution_count": 38,
   "id": "981a7f34",
   "metadata": {},
   "outputs": [],
   "source": [
    "# Instanciation de l'imputation\n",
    "imp2 = SimpleImputer(strategy='median')\n",
    "imp3 = KNNImputer(n_neighbors=2, weights=\"uniform\")"
   ]
  },
  {
   "cell_type": "code",
   "execution_count": 39,
   "id": "a5ca1954",
   "metadata": {},
   "outputs": [],
   "source": [
    "# Imputation par la methode du KNN\n",
    "for elem in var : \n",
    "    df[elem] = imp3.fit_transform(df[elem].values.reshape(-1, 1))"
   ]
  },
  {
   "cell_type": "code",
   "execution_count": 40,
   "id": "50bcf132",
   "metadata": {},
   "outputs": [],
   "source": [
    "var2 =  ['TotalGHGEmissions']"
   ]
  },
  {
   "cell_type": "code",
   "execution_count": 41,
   "id": "4f4a90ec",
   "metadata": {},
   "outputs": [],
   "source": [
    "# Imputation par la méthode de la médiane\n",
    "for elem in var2 : \n",
    "    df[elem] = imp2.fit_transform(df[elem].values.reshape(-1, 1))"
   ]
  },
  {
   "cell_type": "code",
   "execution_count": 42,
   "id": "4b08c4a1",
   "metadata": {},
   "outputs": [
    {
     "data": {
      "text/plain": [
       "YearBuilt                 0\n",
       "NumberofBuildings         0\n",
       "NumberofFloors            0\n",
       "PropertyGFABuilding(s)    0\n",
       "PropertyGFATotal          0\n",
       "TotalGHGEmissions         0\n",
       "SiteEnergyUse(kBtu)       0\n",
       "dtype: int64"
      ]
     },
     "execution_count": 42,
     "metadata": {},
     "output_type": "execute_result"
    }
   ],
   "source": [
    "df.isna().sum()"
   ]
  },
  {
   "cell_type": "code",
   "execution_count": 43,
   "id": "d3ff508f",
   "metadata": {},
   "outputs": [
    {
     "data": {
      "text/html": [
       "<div>\n",
       "<style scoped>\n",
       "    .dataframe tbody tr th:only-of-type {\n",
       "        vertical-align: middle;\n",
       "    }\n",
       "\n",
       "    .dataframe tbody tr th {\n",
       "        vertical-align: top;\n",
       "    }\n",
       "\n",
       "    .dataframe thead th {\n",
       "        text-align: right;\n",
       "    }\n",
       "</style>\n",
       "<table border=\"1\" class=\"dataframe\">\n",
       "  <thead>\n",
       "    <tr style=\"text-align: right;\">\n",
       "      <th></th>\n",
       "      <th>YearBuilt</th>\n",
       "      <th>NumberofBuildings</th>\n",
       "      <th>NumberofFloors</th>\n",
       "      <th>PropertyGFABuilding(s)</th>\n",
       "      <th>PropertyGFATotal</th>\n",
       "      <th>TotalGHGEmissions</th>\n",
       "      <th>SiteEnergyUse(kBtu)</th>\n",
       "    </tr>\n",
       "  </thead>\n",
       "  <tbody>\n",
       "    <tr>\n",
       "      <th>0</th>\n",
       "      <td>1927.0</td>\n",
       "      <td>1.0</td>\n",
       "      <td>2.720407</td>\n",
       "      <td>88434.000000</td>\n",
       "      <td>88434.000000</td>\n",
       "      <td>249.98</td>\n",
       "      <td>7.226362e+06</td>\n",
       "    </tr>\n",
       "    <tr>\n",
       "      <th>1</th>\n",
       "      <td>1996.0</td>\n",
       "      <td>1.0</td>\n",
       "      <td>2.720407</td>\n",
       "      <td>88502.000000</td>\n",
       "      <td>103566.000000</td>\n",
       "      <td>295.86</td>\n",
       "      <td>8.387933e+06</td>\n",
       "    </tr>\n",
       "    <tr>\n",
       "      <th>2</th>\n",
       "      <td>1969.0</td>\n",
       "      <td>1.0</td>\n",
       "      <td>2.720407</td>\n",
       "      <td>55045.339734</td>\n",
       "      <td>58763.760722</td>\n",
       "      <td>41.96</td>\n",
       "      <td>3.618398e+06</td>\n",
       "    </tr>\n",
       "    <tr>\n",
       "      <th>3</th>\n",
       "      <td>1926.0</td>\n",
       "      <td>1.0</td>\n",
       "      <td>2.720407</td>\n",
       "      <td>61320.000000</td>\n",
       "      <td>61320.000000</td>\n",
       "      <td>286.43</td>\n",
       "      <td>6.794584e+06</td>\n",
       "    </tr>\n",
       "    <tr>\n",
       "      <th>4</th>\n",
       "      <td>1980.0</td>\n",
       "      <td>1.0</td>\n",
       "      <td>2.720407</td>\n",
       "      <td>113580.000000</td>\n",
       "      <td>175580.000000</td>\n",
       "      <td>41.96</td>\n",
       "      <td>1.417261e+07</td>\n",
       "    </tr>\n",
       "  </tbody>\n",
       "</table>\n",
       "</div>"
      ],
      "text/plain": [
       "   YearBuilt  NumberofBuildings  NumberofFloors  PropertyGFABuilding(s)  \\\n",
       "0     1927.0                1.0        2.720407            88434.000000   \n",
       "1     1996.0                1.0        2.720407            88502.000000   \n",
       "2     1969.0                1.0        2.720407            55045.339734   \n",
       "3     1926.0                1.0        2.720407            61320.000000   \n",
       "4     1980.0                1.0        2.720407           113580.000000   \n",
       "\n",
       "   PropertyGFATotal  TotalGHGEmissions  SiteEnergyUse(kBtu)  \n",
       "0      88434.000000             249.98         7.226362e+06  \n",
       "1     103566.000000             295.86         8.387933e+06  \n",
       "2      58763.760722              41.96         3.618398e+06  \n",
       "3      61320.000000             286.43         6.794584e+06  \n",
       "4     175580.000000              41.96         1.417261e+07  "
      ]
     },
     "execution_count": 43,
     "metadata": {},
     "output_type": "execute_result"
    }
   ],
   "source": [
    "df.head()"
   ]
  },
  {
   "cell_type": "code",
   "execution_count": 44,
   "id": "4bafbf9d",
   "metadata": {},
   "outputs": [],
   "source": [
    "df_Energy = df.copy()"
   ]
  },
  {
   "cell_type": "code",
   "execution_count": 45,
   "id": "7224af04",
   "metadata": {},
   "outputs": [],
   "source": [
    "# On ajoute les données de EnergyStarScore\n",
    "df_Energy['ENERGYSTARScore'] = Energy"
   ]
  },
  {
   "cell_type": "code",
   "execution_count": 46,
   "id": "b6897707",
   "metadata": {},
   "outputs": [
    {
     "data": {
      "text/html": [
       "<div>\n",
       "<style scoped>\n",
       "    .dataframe tbody tr th:only-of-type {\n",
       "        vertical-align: middle;\n",
       "    }\n",
       "\n",
       "    .dataframe tbody tr th {\n",
       "        vertical-align: top;\n",
       "    }\n",
       "\n",
       "    .dataframe thead th {\n",
       "        text-align: right;\n",
       "    }\n",
       "</style>\n",
       "<table border=\"1\" class=\"dataframe\">\n",
       "  <thead>\n",
       "    <tr style=\"text-align: right;\">\n",
       "      <th></th>\n",
       "      <th>YearBuilt</th>\n",
       "      <th>NumberofBuildings</th>\n",
       "      <th>NumberofFloors</th>\n",
       "      <th>PropertyGFABuilding(s)</th>\n",
       "      <th>PropertyGFATotal</th>\n",
       "      <th>TotalGHGEmissions</th>\n",
       "      <th>SiteEnergyUse(kBtu)</th>\n",
       "      <th>ENERGYSTARScore</th>\n",
       "    </tr>\n",
       "  </thead>\n",
       "  <tbody>\n",
       "    <tr>\n",
       "      <th>0</th>\n",
       "      <td>1927.0</td>\n",
       "      <td>1.0</td>\n",
       "      <td>2.720407</td>\n",
       "      <td>88434.000000</td>\n",
       "      <td>88434.000000</td>\n",
       "      <td>249.98</td>\n",
       "      <td>7.226362e+06</td>\n",
       "      <td>60.0</td>\n",
       "    </tr>\n",
       "    <tr>\n",
       "      <th>1</th>\n",
       "      <td>1996.0</td>\n",
       "      <td>1.0</td>\n",
       "      <td>2.720407</td>\n",
       "      <td>88502.000000</td>\n",
       "      <td>103566.000000</td>\n",
       "      <td>295.86</td>\n",
       "      <td>8.387933e+06</td>\n",
       "      <td>61.0</td>\n",
       "    </tr>\n",
       "    <tr>\n",
       "      <th>2</th>\n",
       "      <td>1969.0</td>\n",
       "      <td>1.0</td>\n",
       "      <td>2.720407</td>\n",
       "      <td>55045.339734</td>\n",
       "      <td>58763.760722</td>\n",
       "      <td>41.96</td>\n",
       "      <td>3.618398e+06</td>\n",
       "      <td>43.0</td>\n",
       "    </tr>\n",
       "    <tr>\n",
       "      <th>3</th>\n",
       "      <td>1926.0</td>\n",
       "      <td>1.0</td>\n",
       "      <td>2.720407</td>\n",
       "      <td>61320.000000</td>\n",
       "      <td>61320.000000</td>\n",
       "      <td>286.43</td>\n",
       "      <td>6.794584e+06</td>\n",
       "      <td>56.0</td>\n",
       "    </tr>\n",
       "    <tr>\n",
       "      <th>4</th>\n",
       "      <td>1980.0</td>\n",
       "      <td>1.0</td>\n",
       "      <td>2.720407</td>\n",
       "      <td>113580.000000</td>\n",
       "      <td>175580.000000</td>\n",
       "      <td>41.96</td>\n",
       "      <td>1.417261e+07</td>\n",
       "      <td>75.0</td>\n",
       "    </tr>\n",
       "  </tbody>\n",
       "</table>\n",
       "</div>"
      ],
      "text/plain": [
       "   YearBuilt  NumberofBuildings  NumberofFloors  PropertyGFABuilding(s)  \\\n",
       "0     1927.0                1.0        2.720407            88434.000000   \n",
       "1     1996.0                1.0        2.720407            88502.000000   \n",
       "2     1969.0                1.0        2.720407            55045.339734   \n",
       "3     1926.0                1.0        2.720407            61320.000000   \n",
       "4     1980.0                1.0        2.720407           113580.000000   \n",
       "\n",
       "   PropertyGFATotal  TotalGHGEmissions  SiteEnergyUse(kBtu)  ENERGYSTARScore  \n",
       "0      88434.000000             249.98         7.226362e+06             60.0  \n",
       "1     103566.000000             295.86         8.387933e+06             61.0  \n",
       "2      58763.760722              41.96         3.618398e+06             43.0  \n",
       "3      61320.000000             286.43         6.794584e+06             56.0  \n",
       "4     175580.000000              41.96         1.417261e+07             75.0  "
      ]
     },
     "execution_count": 46,
     "metadata": {},
     "output_type": "execute_result"
    }
   ],
   "source": [
    "df_Energy.head()"
   ]
  },
  {
   "cell_type": "code",
   "execution_count": 47,
   "id": "6b39f93e",
   "metadata": {},
   "outputs": [
    {
     "data": {
      "text/plain": [
       "['.ipynb_checkpoints',\n",
       " '.log',\n",
       " '1_Preprocessing.ipynb',\n",
       " '2_EDA.ipynb',\n",
       " '3_Modelisation.ipynb',\n",
       " 'cleaned',\n",
       " 'source']"
      ]
     },
     "execution_count": 47,
     "metadata": {},
     "output_type": "execute_result"
    }
   ],
   "source": [
    "os.listdir()"
   ]
  },
  {
   "cell_type": "markdown",
   "id": "77b298cf",
   "metadata": {},
   "source": [
    "### Ajout de variables catégorielles"
   ]
  },
  {
   "cell_type": "code",
   "execution_count": 47,
   "id": "c08710e5",
   "metadata": {},
   "outputs": [],
   "source": [
    "# On recupère nos nouvelles variables\n",
    "variables = [\"YearBuilt\", \"NumberofBuildings\", \"NumberofFloors\", \"PropertyGFABuilding(s)\", \"PropertyGFATotal\", \"TotalGHGEmissions\", \"SiteEnergyUse(kBtu)\", \"ENERGYSTARScore\", \"BuildingType\", \"PrimaryPropertyType\"]"
   ]
  },
  {
   "cell_type": "code",
   "execution_count": 48,
   "id": "b138bd5b",
   "metadata": {},
   "outputs": [],
   "source": [
    "# On crée un nouveau dataset à partir de ces variables\n",
    "data2 = data[variables]"
   ]
  },
  {
   "cell_type": "code",
   "execution_count": 49,
   "id": "0dcfc67d",
   "metadata": {},
   "outputs": [],
   "source": [
    "data2 = data2.copy()"
   ]
  },
  {
   "cell_type": "code",
   "execution_count": 50,
   "id": "fd43ec9a",
   "metadata": {},
   "outputs": [],
   "source": [
    "# On supprimes les lignes qui n'ont pas ce champ renseigné car c'est notre première target et que cela ne coresspond que à 4 lignes\n",
    "data2.dropna(subset = \"TotalGHGEmissions\", inplace = True)"
   ]
  },
  {
   "cell_type": "code",
   "execution_count": 51,
   "id": "b988bf0d",
   "metadata": {},
   "outputs": [],
   "source": [
    "Energy2 = data2['ENERGYSTARScore']\n",
    "data2.drop(\"ENERGYSTARScore\", axis = 1, inplace = True)"
   ]
  },
  {
   "cell_type": "code",
   "execution_count": 52,
   "id": "5cadf31e",
   "metadata": {},
   "outputs": [],
   "source": [
    "# On recupère les variables quantitatives\n",
    "quant_na = [\"YearBuilt\", \"NumberofBuildings\", \"NumberofFloors\", \"PropertyGFABuilding(s)\", \"PropertyGFATotal\", \"TotalGHGEmissions\",\"SiteEnergyUse(kBtu)\"]"
   ]
  },
  {
   "cell_type": "code",
   "execution_count": 53,
   "id": "4f696535",
   "metadata": {},
   "outputs": [],
   "source": [
    "# On traite les outliers avec la méthode interquartile\n",
    "coeff = 1.5\n",
    "for elem in quant_na :\n",
    "    IQR = st.iqr(data2[elem].dropna())\n",
    "    Q1 = np.percentile(data2[elem].dropna(), 25, interpolation = 'midpoint') \n",
    "    Q2 = np.percentile(data2[elem].dropna(), 50, interpolation = 'midpoint') \n",
    "    Q3 = np.percentile(data2[elem].dropna(), 75, interpolation = 'midpoint')\n",
    "    low_lim = Q1 - coeff * IQR \n",
    "    up_lim = Q3 + coeff * IQR\n",
    "    data2.loc[(data2[elem] < low_lim) | (data2[elem] > up_lim), elem] = np.nan"
   ]
  },
  {
   "cell_type": "code",
   "execution_count": 54,
   "id": "66e5b8b7",
   "metadata": {},
   "outputs": [],
   "source": [
    "# Recuperation des noms des variables \n",
    "var = data2.columns.tolist()"
   ]
  },
  {
   "cell_type": "code",
   "execution_count": 55,
   "id": "5d0acf70",
   "metadata": {},
   "outputs": [
    {
     "data": {
      "text/plain": [
       "['YearBuilt',\n",
       " 'NumberofBuildings',\n",
       " 'NumberofFloors',\n",
       " 'PropertyGFABuilding(s)',\n",
       " 'PropertyGFATotal',\n",
       " 'SiteEnergyUse(kBtu)']"
      ]
     },
     "execution_count": 55,
     "metadata": {},
     "output_type": "execute_result"
    }
   ],
   "source": [
    "# On supprime les variables dont on souhaite imputer par la médiane\n",
    "var.remove('TotalGHGEmissions')\n",
    "var.remove('BuildingType')\n",
    "var.remove('PrimaryPropertyType')\n",
    "var"
   ]
  },
  {
   "cell_type": "code",
   "execution_count": 56,
   "id": "2c8c2a2b",
   "metadata": {},
   "outputs": [],
   "source": [
    "# On impute par un KNN\n",
    "for elem in var : \n",
    "    data2[elem] = imp3.fit_transform(data2[elem].values.reshape(-1, 1))"
   ]
  },
  {
   "cell_type": "code",
   "execution_count": 57,
   "id": "d9603e27",
   "metadata": {},
   "outputs": [],
   "source": [
    "# On impute par la mediane\n",
    "for elem in var2 : \n",
    "    data2[elem] = imp2.fit_transform(data2[elem].values.reshape(-1, 1))"
   ]
  },
  {
   "cell_type": "code",
   "execution_count": 58,
   "id": "d94cb343",
   "metadata": {},
   "outputs": [],
   "source": [
    "# One hot encoding, dans le but de transformer les variables qualitatives en catégorie\n",
    "# Convertir les colonnes en type catégorie \n",
    "data2['BuildingType']=data2['BuildingType'].astype('category')\n",
    "data2['PrimaryPropertyType']=data2['PrimaryPropertyType'].astype('category')\n",
    "\n",
    "# On les transforme en nouvelles variables numériques \n",
    "data2['BuildingTypeEnc']=data2['BuildingType'].cat.codes\n",
    "data2['PrimaryPropertyTypeEnc']=data2['PrimaryPropertyType'].cat.codes"
   ]
  },
  {
   "cell_type": "code",
   "execution_count": 59,
   "id": "76f8f8e9",
   "metadata": {},
   "outputs": [],
   "source": [
    "# Créer une instance du One hot encoder\n",
    "enc=OneHotEncoder()"
   ]
  },
  {
   "cell_type": "code",
   "execution_count": 60,
   "id": "4f3355e5",
   "metadata": {},
   "outputs": [],
   "source": [
    "# On entraine l'encoding\n",
    "enc_data=pd.DataFrame(enc.fit_transform(data2[['BuildingTypeEnc','PrimaryPropertyTypeEnc']]).toarray())\n",
    " \n",
    "# On joint les 2 datasets\n",
    "df_enc=data2.join(enc_data)"
   ]
  },
  {
   "cell_type": "code",
   "execution_count": 61,
   "id": "a130566e",
   "metadata": {},
   "outputs": [
    {
     "data": {
      "text/plain": [
       "Index([             'YearBuilt',      'NumberofBuildings',\n",
       "               'NumberofFloors', 'PropertyGFABuilding(s)',\n",
       "             'PropertyGFATotal',      'TotalGHGEmissions',\n",
       "          'SiteEnergyUse(kBtu)',           'BuildingType',\n",
       "          'PrimaryPropertyType',        'BuildingTypeEnc',\n",
       "       'PrimaryPropertyTypeEnc',                        0,\n",
       "                              1,                        2,\n",
       "                              3,                        4,\n",
       "                              5,                        6,\n",
       "                              7,                        8,\n",
       "                              9,                       10,\n",
       "                             11,                       12,\n",
       "                             13,                       14,\n",
       "                             15,                       16,\n",
       "                             17,                       18,\n",
       "                             19,                       20,\n",
       "                             21,                       22,\n",
       "                             23],\n",
       "      dtype='object')"
      ]
     },
     "execution_count": 61,
     "metadata": {},
     "output_type": "execute_result"
    }
   ],
   "source": [
    "df_enc.columns"
   ]
  },
  {
   "cell_type": "code",
   "execution_count": 62,
   "id": "bb175029",
   "metadata": {},
   "outputs": [],
   "source": [
    "# on récupère les variables qui nous intéressent \n",
    "data_enc = df_enc[['YearBuilt','NumberofBuildings','NumberofFloors', 'PropertyGFABuilding(s)','PropertyGFATotal','TotalGHGEmissions','SiteEnergyUse(kBtu)','BuildingType','PrimaryPropertyType','BuildingTypeEnc','PrimaryPropertyTypeEnc']]"
   ]
  },
  {
   "cell_type": "code",
   "execution_count": 63,
   "id": "4470546b",
   "metadata": {},
   "outputs": [
    {
     "name": "stderr",
     "output_type": "stream",
     "text": [
      "2023-03-15 12:14:59,498 [16636] WARNING  py.warnings:109: [JupyterRequire] C:\\Users\\aguer\\AppData\\Local\\Temp\\ipykernel_16636\\2633907488.py:2: SettingWithCopyWarning: \n",
      "A value is trying to be set on a copy of a slice from a DataFrame\n",
      "\n",
      "See the caveats in the documentation: https://pandas.pydata.org/pandas-docs/stable/user_guide/indexing.html#returning-a-view-versus-a-copy\n",
      "  data_enc.drop([\"BuildingType\",\"PrimaryPropertyType\"], axis = 1, inplace = True)\n",
      "\n"
     ]
    }
   ],
   "source": [
    "# Création de nos nouveaux dataset \n",
    "data_enc.drop([\"BuildingType\",\"PrimaryPropertyType\"], axis = 1, inplace = True)"
   ]
  },
  {
   "cell_type": "code",
   "execution_count": 64,
   "id": "a3247423",
   "metadata": {},
   "outputs": [
    {
     "data": {
      "text/html": [
       "<div>\n",
       "<style scoped>\n",
       "    .dataframe tbody tr th:only-of-type {\n",
       "        vertical-align: middle;\n",
       "    }\n",
       "\n",
       "    .dataframe tbody tr th {\n",
       "        vertical-align: top;\n",
       "    }\n",
       "\n",
       "    .dataframe thead th {\n",
       "        text-align: right;\n",
       "    }\n",
       "</style>\n",
       "<table border=\"1\" class=\"dataframe\">\n",
       "  <thead>\n",
       "    <tr style=\"text-align: right;\">\n",
       "      <th></th>\n",
       "      <th>YearBuilt</th>\n",
       "      <th>NumberofBuildings</th>\n",
       "      <th>NumberofFloors</th>\n",
       "      <th>PropertyGFABuilding(s)</th>\n",
       "      <th>PropertyGFATotal</th>\n",
       "      <th>TotalGHGEmissions</th>\n",
       "      <th>SiteEnergyUse(kBtu)</th>\n",
       "      <th>BuildingTypeEnc</th>\n",
       "      <th>PrimaryPropertyTypeEnc</th>\n",
       "    </tr>\n",
       "  </thead>\n",
       "  <tbody>\n",
       "    <tr>\n",
       "      <th>0</th>\n",
       "      <td>1927.0</td>\n",
       "      <td>1.0</td>\n",
       "      <td>2.720407</td>\n",
       "      <td>88434.000000</td>\n",
       "      <td>88434.000000</td>\n",
       "      <td>249.98</td>\n",
       "      <td>7.226362e+06</td>\n",
       "      <td>0</td>\n",
       "      <td>2</td>\n",
       "    </tr>\n",
       "    <tr>\n",
       "      <th>1</th>\n",
       "      <td>1996.0</td>\n",
       "      <td>1.0</td>\n",
       "      <td>2.720407</td>\n",
       "      <td>88502.000000</td>\n",
       "      <td>103566.000000</td>\n",
       "      <td>295.86</td>\n",
       "      <td>8.387933e+06</td>\n",
       "      <td>0</td>\n",
       "      <td>2</td>\n",
       "    </tr>\n",
       "    <tr>\n",
       "      <th>2</th>\n",
       "      <td>1969.0</td>\n",
       "      <td>1.0</td>\n",
       "      <td>2.720407</td>\n",
       "      <td>55020.913653</td>\n",
       "      <td>58736.079699</td>\n",
       "      <td>41.92</td>\n",
       "      <td>3.615950e+06</td>\n",
       "      <td>0</td>\n",
       "      <td>2</td>\n",
       "    </tr>\n",
       "    <tr>\n",
       "      <th>3</th>\n",
       "      <td>1926.0</td>\n",
       "      <td>1.0</td>\n",
       "      <td>2.720407</td>\n",
       "      <td>61320.000000</td>\n",
       "      <td>61320.000000</td>\n",
       "      <td>286.43</td>\n",
       "      <td>6.794584e+06</td>\n",
       "      <td>0</td>\n",
       "      <td>2</td>\n",
       "    </tr>\n",
       "    <tr>\n",
       "      <th>4</th>\n",
       "      <td>1980.0</td>\n",
       "      <td>1.0</td>\n",
       "      <td>2.720407</td>\n",
       "      <td>113580.000000</td>\n",
       "      <td>175580.000000</td>\n",
       "      <td>41.92</td>\n",
       "      <td>1.417261e+07</td>\n",
       "      <td>0</td>\n",
       "      <td>2</td>\n",
       "    </tr>\n",
       "  </tbody>\n",
       "</table>\n",
       "</div>"
      ],
      "text/plain": [
       "   YearBuilt  NumberofBuildings  NumberofFloors  PropertyGFABuilding(s)  \\\n",
       "0     1927.0                1.0        2.720407            88434.000000   \n",
       "1     1996.0                1.0        2.720407            88502.000000   \n",
       "2     1969.0                1.0        2.720407            55020.913653   \n",
       "3     1926.0                1.0        2.720407            61320.000000   \n",
       "4     1980.0                1.0        2.720407           113580.000000   \n",
       "\n",
       "   PropertyGFATotal  TotalGHGEmissions  SiteEnergyUse(kBtu)  BuildingTypeEnc  \\\n",
       "0      88434.000000             249.98         7.226362e+06                0   \n",
       "1     103566.000000             295.86         8.387933e+06                0   \n",
       "2      58736.079699              41.92         3.615950e+06                0   \n",
       "3      61320.000000             286.43         6.794584e+06                0   \n",
       "4     175580.000000              41.92         1.417261e+07                0   \n",
       "\n",
       "   PrimaryPropertyTypeEnc  \n",
       "0                       2  \n",
       "1                       2  \n",
       "2                       2  \n",
       "3                       2  \n",
       "4                       2  "
      ]
     },
     "execution_count": 64,
     "metadata": {},
     "output_type": "execute_result"
    }
   ],
   "source": [
    "data_enc.head()"
   ]
  },
  {
   "cell_type": "code",
   "execution_count": 65,
   "id": "eef0f8a5",
   "metadata": {},
   "outputs": [],
   "source": [
    "df_enc_Energy = data_enc.copy()"
   ]
  },
  {
   "cell_type": "code",
   "execution_count": 66,
   "id": "b500990f",
   "metadata": {},
   "outputs": [],
   "source": [
    "# On ajoute les données de EnergyStarScore\n",
    "df_enc_Energy['ENERGYSTARScore'] = Energy2"
   ]
  },
  {
   "cell_type": "code",
   "execution_count": 67,
   "id": "730742a7",
   "metadata": {},
   "outputs": [
    {
     "data": {
      "text/html": [
       "<div>\n",
       "<style scoped>\n",
       "    .dataframe tbody tr th:only-of-type {\n",
       "        vertical-align: middle;\n",
       "    }\n",
       "\n",
       "    .dataframe tbody tr th {\n",
       "        vertical-align: top;\n",
       "    }\n",
       "\n",
       "    .dataframe thead th {\n",
       "        text-align: right;\n",
       "    }\n",
       "</style>\n",
       "<table border=\"1\" class=\"dataframe\">\n",
       "  <thead>\n",
       "    <tr style=\"text-align: right;\">\n",
       "      <th></th>\n",
       "      <th>YearBuilt</th>\n",
       "      <th>NumberofBuildings</th>\n",
       "      <th>NumberofFloors</th>\n",
       "      <th>PropertyGFABuilding(s)</th>\n",
       "      <th>PropertyGFATotal</th>\n",
       "      <th>TotalGHGEmissions</th>\n",
       "      <th>SiteEnergyUse(kBtu)</th>\n",
       "      <th>BuildingTypeEnc</th>\n",
       "      <th>PrimaryPropertyTypeEnc</th>\n",
       "      <th>ENERGYSTARScore</th>\n",
       "    </tr>\n",
       "  </thead>\n",
       "  <tbody>\n",
       "    <tr>\n",
       "      <th>0</th>\n",
       "      <td>1927.0</td>\n",
       "      <td>1.0</td>\n",
       "      <td>2.720407</td>\n",
       "      <td>88434.000000</td>\n",
       "      <td>88434.000000</td>\n",
       "      <td>249.98</td>\n",
       "      <td>7.226362e+06</td>\n",
       "      <td>0</td>\n",
       "      <td>2</td>\n",
       "      <td>60.0</td>\n",
       "    </tr>\n",
       "    <tr>\n",
       "      <th>1</th>\n",
       "      <td>1996.0</td>\n",
       "      <td>1.0</td>\n",
       "      <td>2.720407</td>\n",
       "      <td>88502.000000</td>\n",
       "      <td>103566.000000</td>\n",
       "      <td>295.86</td>\n",
       "      <td>8.387933e+06</td>\n",
       "      <td>0</td>\n",
       "      <td>2</td>\n",
       "      <td>61.0</td>\n",
       "    </tr>\n",
       "    <tr>\n",
       "      <th>2</th>\n",
       "      <td>1969.0</td>\n",
       "      <td>1.0</td>\n",
       "      <td>2.720407</td>\n",
       "      <td>55020.913653</td>\n",
       "      <td>58736.079699</td>\n",
       "      <td>41.92</td>\n",
       "      <td>3.615950e+06</td>\n",
       "      <td>0</td>\n",
       "      <td>2</td>\n",
       "      <td>43.0</td>\n",
       "    </tr>\n",
       "    <tr>\n",
       "      <th>3</th>\n",
       "      <td>1926.0</td>\n",
       "      <td>1.0</td>\n",
       "      <td>2.720407</td>\n",
       "      <td>61320.000000</td>\n",
       "      <td>61320.000000</td>\n",
       "      <td>286.43</td>\n",
       "      <td>6.794584e+06</td>\n",
       "      <td>0</td>\n",
       "      <td>2</td>\n",
       "      <td>56.0</td>\n",
       "    </tr>\n",
       "    <tr>\n",
       "      <th>4</th>\n",
       "      <td>1980.0</td>\n",
       "      <td>1.0</td>\n",
       "      <td>2.720407</td>\n",
       "      <td>113580.000000</td>\n",
       "      <td>175580.000000</td>\n",
       "      <td>41.92</td>\n",
       "      <td>1.417261e+07</td>\n",
       "      <td>0</td>\n",
       "      <td>2</td>\n",
       "      <td>75.0</td>\n",
       "    </tr>\n",
       "  </tbody>\n",
       "</table>\n",
       "</div>"
      ],
      "text/plain": [
       "   YearBuilt  NumberofBuildings  NumberofFloors  PropertyGFABuilding(s)  \\\n",
       "0     1927.0                1.0        2.720407            88434.000000   \n",
       "1     1996.0                1.0        2.720407            88502.000000   \n",
       "2     1969.0                1.0        2.720407            55020.913653   \n",
       "3     1926.0                1.0        2.720407            61320.000000   \n",
       "4     1980.0                1.0        2.720407           113580.000000   \n",
       "\n",
       "   PropertyGFATotal  TotalGHGEmissions  SiteEnergyUse(kBtu)  BuildingTypeEnc  \\\n",
       "0      88434.000000             249.98         7.226362e+06                0   \n",
       "1     103566.000000             295.86         8.387933e+06                0   \n",
       "2      58736.079699              41.92         3.615950e+06                0   \n",
       "3      61320.000000             286.43         6.794584e+06                0   \n",
       "4     175580.000000              41.92         1.417261e+07                0   \n",
       "\n",
       "   PrimaryPropertyTypeEnc  ENERGYSTARScore  \n",
       "0                       2             60.0  \n",
       "1                       2             61.0  \n",
       "2                       2             43.0  \n",
       "3                       2             56.0  \n",
       "4                       2             75.0  "
      ]
     },
     "execution_count": 67,
     "metadata": {},
     "output_type": "execute_result"
    }
   ],
   "source": [
    "df_enc_Energy.head()"
   ]
  },
  {
   "cell_type": "code",
   "execution_count": 68,
   "id": "21275bfe",
   "metadata": {},
   "outputs": [],
   "source": [
    "path = 'cleaned/'\n",
    "filename = 'dataset_cleaned2.csv'"
   ]
  },
  {
   "cell_type": "code",
   "execution_count": 69,
   "id": "5be78b2f",
   "metadata": {},
   "outputs": [],
   "source": [
    "data_enc.to_csv(path+filename, index = False)"
   ]
  },
  {
   "cell_type": "code",
   "execution_count": 70,
   "id": "449710c2",
   "metadata": {},
   "outputs": [],
   "source": [
    "path = 'cleaned/'\n",
    "filename = 'dataset_cleaned2_EnergyScore.csv'"
   ]
  },
  {
   "cell_type": "code",
   "execution_count": 71,
   "id": "ca8bedbb",
   "metadata": {},
   "outputs": [],
   "source": [
    "df_enc_Energy.to_csv(path+filename, index = False)"
   ]
  },
  {
   "cell_type": "code",
   "execution_count": 72,
   "id": "0598a759",
   "metadata": {},
   "outputs": [],
   "source": [
    "path = 'cleaned/'\n",
    "filename = 'dataset_cleaned.csv'"
   ]
  },
  {
   "cell_type": "code",
   "execution_count": 73,
   "id": "5cef9211",
   "metadata": {},
   "outputs": [],
   "source": [
    "df.to_csv(path+filename, index = False)"
   ]
  },
  {
   "cell_type": "code",
   "execution_count": 74,
   "id": "caa09ab2",
   "metadata": {},
   "outputs": [],
   "source": [
    "path = 'cleaned/'\n",
    "filename = 'dataset_cleaned_EnergyScore.csv'"
   ]
  },
  {
   "cell_type": "code",
   "execution_count": 75,
   "id": "1a0d2ba5",
   "metadata": {},
   "outputs": [],
   "source": [
    "df_Energy.to_csv(path+filename, index = False)"
   ]
  }
 ],
 "metadata": {
  "kernelspec": {
   "display_name": "Python 3 (ipykernel)",
   "language": "python",
   "name": "python3"
  },
  "language_info": {
   "codemirror_mode": {
    "name": "ipython",
    "version": 3
   },
   "file_extension": ".py",
   "mimetype": "text/x-python",
   "name": "python",
   "nbconvert_exporter": "python",
   "pygments_lexer": "ipython3",
   "version": "3.9.13"
  }
 },
 "nbformat": 4,
 "nbformat_minor": 5
}
